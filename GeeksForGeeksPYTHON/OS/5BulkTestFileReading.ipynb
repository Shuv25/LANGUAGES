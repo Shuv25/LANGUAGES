{
 "cells": [
  {
   "cell_type": "code",
   "execution_count": 1,
   "metadata": {},
   "outputs": [],
   "source": [
    "import os"
   ]
  },
  {
   "cell_type": "code",
   "execution_count": 2,
   "metadata": {},
   "outputs": [
    {
     "data": {
      "text/plain": [
       "'c:\\\\Users\\\\hp\\\\Documents\\\\GitHub\\\\WORKSPACE\\\\1LANGUAGES\\\\GeeksForGeeksPYTHON\\\\OS'"
      ]
     },
     "execution_count": 2,
     "metadata": {},
     "output_type": "execute_result"
    }
   ],
   "source": [
    "pwd"
   ]
  },
  {
   "cell_type": "code",
   "execution_count": 3,
   "metadata": {},
   "outputs": [],
   "source": [
    "os.mkdir('GFG')"
   ]
  },
  {
   "cell_type": "code",
   "execution_count": 4,
   "metadata": {},
   "outputs": [
    {
     "name": "stdout",
     "output_type": "stream",
     "text": [
      "c:\\Users\\hp\\Documents\\GitHub\\WORKSPACE\\1LANGUAGES\\GeeksForGeeksPYTHON\\OS\\GFG\n"
     ]
    }
   ],
   "source": [
    "cd \"GFG\""
   ]
  },
  {
   "cell_type": "code",
   "execution_count": 8,
   "metadata": {},
   "outputs": [],
   "source": [
    "for i in range(5):\n",
    "    filename = f'example_{i}.txt'\n",
    "    with open(filename, 'w') as f:\n",
    "        f.write('this is an example file\\n')"
   ]
  },
  {
   "cell_type": "code",
   "execution_count": 9,
   "metadata": {},
   "outputs": [
    {
     "name": "stdout",
     "output_type": "stream",
     "text": [
      " Volume in drive C has no label.\n",
      " Volume Serial Number is 6665-5704\n",
      "\n",
      " Directory of c:\\Users\\hp\\Documents\\GitHub\\WORKSPACE\\1LANGUAGES\\GeeksForGeeksPYTHON\\OS\\GFG\n",
      "\n",
      "06/14/2024  01:44 PM    <DIR>          .\n",
      "06/14/2024  01:44 PM    <DIR>          ..\n",
      "06/14/2024  01:44 PM                25 example_0.txt\n",
      "06/14/2024  01:44 PM                25 example_1.txt\n",
      "06/14/2024  01:44 PM                25 example_2.txt\n",
      "06/14/2024  01:44 PM                25 example_3.txt\n",
      "06/14/2024  01:44 PM                25 example_4.txt\n",
      "               5 File(s)            125 bytes\n",
      "               2 Dir(s)  128,187,076,608 bytes free\n"
     ]
    }
   ],
   "source": [
    "ls"
   ]
  },
  {
   "cell_type": "code",
   "execution_count": 12,
   "metadata": {},
   "outputs": [
    {
     "name": "stdout",
     "output_type": "stream",
     "text": [
      "c:\\Users\\hp\\Documents\\GitHub\\WORKSPACE\\1LANGUAGES\\GeeksForGeeksPYTHON\\OS\n"
     ]
    }
   ],
   "source": [
    "cd .."
   ]
  },
  {
   "cell_type": "code",
   "execution_count": 13,
   "metadata": {},
   "outputs": [
    {
     "name": "stdout",
     "output_type": "stream",
     "text": [
      " Volume in drive C has no label.\n",
      " Volume Serial Number is 6665-5704\n",
      "\n",
      " Directory of c:\\Users\\hp\\Documents\\GitHub\\WORKSPACE\\1LANGUAGES\\GeeksForGeeksPYTHON\\OS\n",
      "\n",
      "06/14/2024  01:39 PM    <DIR>          .\n",
      "06/14/2024  01:39 PM    <DIR>          ..\n",
      "06/13/2024  11:39 AM             4,824 1basic.ipynb\n",
      "06/14/2024  12:37 PM             3,965 2ListDir.ipynb\n",
      "06/14/2024  01:16 PM             2,984 3BulkDir.ipynb\n",
      "06/14/2024  01:31 PM             1,822 4HirerhicalBulkDir.ipynb\n",
      "06/14/2024  01:35 PM                 0 5BulkTestFileReading.ipynb\n",
      "06/14/2024  12:36 PM                 8 ex.txt\n",
      "06/13/2024  11:44 AM                 8 example.txt\n",
      "06/14/2024  01:44 PM    <DIR>          GFG\n",
      "               7 File(s)         13,611 bytes\n",
      "               3 Dir(s)  128,187,322,368 bytes free\n"
     ]
    }
   ],
   "source": [
    "ls"
   ]
  },
  {
   "cell_type": "code",
   "execution_count": 14,
   "metadata": {},
   "outputs": [
    {
     "data": {
      "text/plain": [
       "['example_0.txt',\n",
       " 'example_1.txt',\n",
       " 'example_2.txt',\n",
       " 'example_3.txt',\n",
       " 'example_4.txt']"
      ]
     },
     "execution_count": 14,
     "metadata": {},
     "output_type": "execute_result"
    }
   ],
   "source": [
    "os.listdir('GFG')"
   ]
  },
  {
   "cell_type": "code",
   "execution_count": 17,
   "metadata": {},
   "outputs": [],
   "source": [
    "files=os.listdir('GFG')"
   ]
  },
  {
   "cell_type": "code",
   "execution_count": 18,
   "metadata": {},
   "outputs": [
    {
     "data": {
      "text/plain": [
       "['example_0.txt',\n",
       " 'example_1.txt',\n",
       " 'example_2.txt',\n",
       " 'example_3.txt',\n",
       " 'example_4.txt']"
      ]
     },
     "execution_count": 18,
     "metadata": {},
     "output_type": "execute_result"
    }
   ],
   "source": [
    "files"
   ]
  },
  {
   "cell_type": "code",
   "execution_count": 24,
   "metadata": {},
   "outputs": [
    {
     "data": {
      "text/plain": [
       "'c:\\\\Users\\\\hp\\\\Documents\\\\GitHub\\\\WORKSPACE\\\\1LANGUAGES\\\\GeeksForGeeksPYTHON\\\\OS'"
      ]
     },
     "execution_count": 24,
     "metadata": {},
     "output_type": "execute_result"
    }
   ],
   "source": [
    "pwd"
   ]
  },
  {
   "cell_type": "code",
   "execution_count": 26,
   "metadata": {},
   "outputs": [
    {
     "name": "stdout",
     "output_type": "stream",
     "text": [
      "c:\\Users\\hp\\Documents\\GitHub\\WORKSPACE\\1LANGUAGES\\GeeksForGeeksPYTHON\\OS\\GFG\n"
     ]
    }
   ],
   "source": [
    "cd \"GFG\""
   ]
  },
  {
   "cell_type": "code",
   "execution_count": 29,
   "metadata": {},
   "outputs": [],
   "source": [
    "for i in files:\n",
    "    with open(i,'r') as f:\n",
    "        content=f.read()\n",
    "    with open('savi.txt','a') as fw:\n",
    "        fw.write(content)"
   ]
  }
 ],
 "metadata": {
  "kernelspec": {
   "display_name": "Python 3",
   "language": "python",
   "name": "python3"
  },
  "language_info": {
   "codemirror_mode": {
    "name": "ipython",
    "version": 3
   },
   "file_extension": ".py",
   "mimetype": "text/x-python",
   "name": "python",
   "nbconvert_exporter": "python",
   "pygments_lexer": "ipython3",
   "version": "3.11.1"
  }
 },
 "nbformat": 4,
 "nbformat_minor": 2
}
