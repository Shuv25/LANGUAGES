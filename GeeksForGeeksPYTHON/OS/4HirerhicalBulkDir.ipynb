{
 "cells": [
  {
   "cell_type": "code",
   "execution_count": 1,
   "metadata": {},
   "outputs": [],
   "source": [
    "import os"
   ]
  },
  {
   "cell_type": "code",
   "execution_count": 2,
   "metadata": {},
   "outputs": [
    {
     "data": {
      "text/plain": [
       "'c:\\\\Users\\\\hp\\\\Documents\\\\GitHub\\\\WORKSPACE\\\\1LANGUAGES\\\\GeeksForGeeksPYTHON\\\\OS'"
      ]
     },
     "execution_count": 2,
     "metadata": {},
     "output_type": "execute_result"
    }
   ],
   "source": [
    "pwd"
   ]
  },
  {
   "cell_type": "code",
   "execution_count": 3,
   "metadata": {},
   "outputs": [],
   "source": [
    "master='GFG'\n",
    "os.mkdir(master)\n",
    "for i in range(5):\n",
    "    name=master+'\\\\\\\\'+master+'_'+str(i)\n",
    "    os.mkdir(name)\n",
    "\n",
    "    for j in range(3):\n",
    "        name=master+'\\\\\\\\'+master+'_'+str(i)+'\\\\\\\\'+master+'_'+str(j)\n",
    "        os.mkdir(name)"
   ]
  },
  {
   "cell_type": "code",
   "execution_count": 7,
   "metadata": {},
   "outputs": [],
   "source": [
    "def del_dir(dir):\n",
    "    for root,dirs,file in os.walk(dir,topdown=False):\n",
    "        for f in file:\n",
    "            os.remove(os.path.join(root,f))\n",
    "        for d in dirs:\n",
    "            del_dir(os.path.join(root,d))\n",
    "    os.rmdir(dir)\n",
    "\n",
    "del_dir('GFG')"
   ]
  }
 ],
 "metadata": {
  "kernelspec": {
   "display_name": "Python 3",
   "language": "python",
   "name": "python3"
  },
  "language_info": {
   "codemirror_mode": {
    "name": "ipython",
    "version": 3
   },
   "file_extension": ".py",
   "mimetype": "text/x-python",
   "name": "python",
   "nbconvert_exporter": "python",
   "pygments_lexer": "ipython3",
   "version": "3.11.1"
  }
 },
 "nbformat": 4,
 "nbformat_minor": 2
}
