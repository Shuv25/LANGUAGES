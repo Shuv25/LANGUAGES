{
 "cells": [
  {
   "cell_type": "code",
   "execution_count": 1,
   "metadata": {},
   "outputs": [],
   "source": [
    "import numpy as np"
   ]
  },
  {
   "cell_type": "code",
   "execution_count": 2,
   "metadata": {},
   "outputs": [
    {
     "data": {
      "text/plain": [
       "array([[0.9245164 , 0.77177763, 0.46159146, 0.12282834],\n",
       "       [0.82459924, 0.68436128, 0.44934559, 0.46219189],\n",
       "       [0.78568342, 0.89291846, 0.19124892, 0.88198708]])"
      ]
     },
     "execution_count": 2,
     "metadata": {},
     "output_type": "execute_result"
    }
   ],
   "source": [
    "np.random.rand(3,4)"
   ]
  },
  {
   "cell_type": "code",
   "execution_count": 4,
   "metadata": {},
   "outputs": [
    {
     "data": {
      "text/plain": [
       "array([7, 8, 8, 6, 4, 4, 3])"
      ]
     },
     "execution_count": 4,
     "metadata": {},
     "output_type": "execute_result"
    }
   ],
   "source": [
    "np.random.randint(3,9,7)"
   ]
  },
  {
   "cell_type": "code",
   "execution_count": 5,
   "metadata": {},
   "outputs": [
    {
     "data": {
      "text/plain": [
       "array([ 0.76125017,  1.17159381, -1.10926   ,  1.90957433,  1.02473486,\n",
       "        0.52871031,  0.05901129,  0.81536087,  1.12234334,  1.9904103 ,\n",
       "       -0.29520649,  0.74226849, -0.33393297, -0.72391387,  0.13605527,\n",
       "        1.09033896,  1.07064935,  0.23020994,  0.07773402,  0.75330739,\n",
       "        0.52841655, -0.85457731,  0.92735178,  1.05814288, -0.63387683,\n",
       "        0.37780934,  1.12543394, -0.59537711, -1.64955649,  0.55166587,\n",
       "        0.87721272,  1.23475104, -1.43357683,  0.30701832,  0.04920292,\n",
       "        2.56021886,  0.04159977, -0.24905754, -0.11774297,  0.94550389,\n",
       "       -2.05940476, -0.36742734, -1.50870857,  0.01340061, -0.06058401,\n",
       "       -0.40310766,  1.90599257, -0.14987154,  0.21882695,  0.2074835 ])"
      ]
     },
     "execution_count": 5,
     "metadata": {},
     "output_type": "execute_result"
    }
   ],
   "source": [
    "np.random.randn(50)"
   ]
  },
  {
   "cell_type": "code",
   "execution_count": 6,
   "metadata": {},
   "outputs": [],
   "source": [
    "import matplotlib.pyplot as plt"
   ]
  },
  {
   "cell_type": "code",
   "execution_count": 7,
   "metadata": {},
   "outputs": [
    {
     "data": {
      "image/png": "[encoded data removed]",
      "text/plain": [
       "<Figure size 640x480 with 1 Axes>"
      ]
     },
     "metadata": {},
     "output_type": "display_data"
    }
   ],
   "source": [
    "plt.hist(np.random.randn(50))\n",
    "plt.show()"
   ]
  }
 ],
 "metadata": {
  "kernelspec": {
   "display_name": "Python 3",
   "language": "python",
   "name": "python3"
  },
  "language_info": {
   "codemirror_mode": {
    "name": "ipython",
    "version": 3
   },
   "file_extension": ".py",
   "mimetype": "text/x-python",
   "name": "python",
   "nbconvert_exporter": "python",
   "pygments_lexer": "ipython3",
   "version": "3.11.1"
  }
 },
 "nbformat": 4,
 "nbformat_minor": 2
}
