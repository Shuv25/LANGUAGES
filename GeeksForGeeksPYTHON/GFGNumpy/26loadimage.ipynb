{
 "cells": [
  {
   "cell_type": "code",
   "execution_count": 1,
   "metadata": {},
   "outputs": [],
   "source": [
    "import numpy as np"
   ]
  },
  {
   "cell_type": "code",
   "execution_count": 5,
   "metadata": {},
   "outputs": [
    {
     "data": {
      "text/plain": [
       "array([[[162, 105,  26],\n",
       "        [166, 102,   5],\n",
       "        [173,  95,   0],\n",
       "        ...,\n",
       "        [177, 128, 113],\n",
       "        [175, 128, 112],\n",
       "        [172, 126, 110]],\n",
       "\n",
       "       [[164, 105,  27],\n",
       "        [170, 101,   6],\n",
       "        [175,  96,   0],\n",
       "        ...,\n",
       "        [175, 129, 113],\n",
       "        [173, 130, 113],\n",
       "        [172, 129, 112]],\n",
       "\n",
       "       [[167, 106,  26],\n",
       "        [175, 102,   7],\n",
       "        [184,  97,   0],\n",
       "        ...,\n",
       "        [172, 131, 113],\n",
       "        [171, 133, 114],\n",
       "        [170, 133, 114]],\n",
       "\n",
       "       ...,\n",
       "\n",
       "       [[ 69,  37,  16],\n",
       "        [ 66,  34,  11],\n",
       "        [ 68,  36,  13],\n",
       "        ...,\n",
       "        [ 23,  16,   6],\n",
       "        [ 23,  16,   8],\n",
       "        [ 24,  17,  11]],\n",
       "\n",
       "       [[ 61,  30,  10],\n",
       "        [ 61,  30,  10],\n",
       "        [ 66,  36,  12],\n",
       "        ...,\n",
       "        [ 26,  18,   7],\n",
       "        [ 25,  16,   7],\n",
       "        [ 26,  17,  10]],\n",
       "\n",
       "       [[ 55,  26,  10],\n",
       "        [ 57,  28,  10],\n",
       "        [ 62,  34,  12],\n",
       "        ...,\n",
       "        [ 33,  21,   9],\n",
       "        [ 30,  20,  10],\n",
       "        [ 32,  21,  15]]], dtype=uint8)"
      ]
     },
     "execution_count": 5,
     "metadata": {},
     "output_type": "execute_result"
    }
   ],
   "source": [
    "from matplotlib.image import imread\n",
    "img=imread('1141541.jpg')\n",
    "img"
   ]
  },
  {
   "cell_type": "code",
   "execution_count": 6,
   "metadata": {},
   "outputs": [
    {
     "data": {
      "text/plain": [
       "(1196, 1920, 3)"
      ]
     },
     "execution_count": 6,
     "metadata": {},
     "output_type": "execute_result"
    }
   ],
   "source": [
    "img.shape"
   ]
  },
  {
   "cell_type": "code",
   "execution_count": 7,
   "metadata": {},
   "outputs": [
    {
     "data": {
      "text/plain": [
       "3"
      ]
     },
     "execution_count": 7,
     "metadata": {},
     "output_type": "execute_result"
    }
   ],
   "source": [
    "img.ndim"
   ]
  },
  {
   "cell_type": "code",
   "execution_count": 8,
   "metadata": {},
   "outputs": [
    {
     "data": {
      "text/plain": [
       "255"
      ]
     },
     "execution_count": 8,
     "metadata": {},
     "output_type": "execute_result"
    }
   ],
   "source": [
    "np.max(img)"
   ]
  },
  {
   "cell_type": "code",
   "execution_count": 9,
   "metadata": {},
   "outputs": [
    {
     "data": {
      "text/plain": [
       "0"
      ]
     },
     "execution_count": 9,
     "metadata": {},
     "output_type": "execute_result"
    }
   ],
   "source": [
    "np.min(img)"
   ]
  }
 ],
 "metadata": {
  "kernelspec": {
   "display_name": "Python 3",
   "language": "python",
   "name": "python3"
  },
  "language_info": {
   "codemirror_mode": {
    "name": "ipython",
    "version": 3
   },
   "file_extension": ".py",
   "mimetype": "text/x-python",
   "name": "python",
   "nbconvert_exporter": "python",
   "pygments_lexer": "ipython3",
   "version": "3.11.1"
  }
 },
 "nbformat": 4,
 "nbformat_minor": 2
}
