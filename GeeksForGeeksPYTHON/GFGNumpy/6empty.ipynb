{
 "cells": [
  {
   "cell_type": "code",
   "execution_count": 1,
   "metadata": {},
   "outputs": [],
   "source": [
    "import numpy as np"
   ]
  },
  {
   "cell_type": "code",
   "execution_count": 7,
   "metadata": {},
   "outputs": [
    {
     "name": "stdout",
     "output_type": "stream",
     "text": [
      "[[6.23042070e-307 4.67296746e-307 1.69121096e-306 6.23058707e-307\n",
      "  2.22526399e-307]\n",
      " [6.23053614e-307 7.56592338e-307 1.60216183e-306 7.56602523e-307\n",
      "  3.56043054e-307]\n",
      " [1.37961641e-306 2.22518251e-306 1.33511969e-306 6.23037317e-307\n",
      "  6.23053954e-307]\n",
      " [9.34609790e-307 8.45593934e-307 9.34600963e-307 1.86921143e-306\n",
      "  6.23061763e-307]\n",
      " [9.34593493e-307 7.56602524e-307 2.22522596e-306 3.91786943e-317\n",
      "  5.97819431e-322]]\n"
     ]
    }
   ],
   "source": [
    "np.empty(shape=(5,5))"
   ]
  }
 ],
 "metadata": {
  "kernelspec": {
   "display_name": "Python 3",
   "language": "python",
   "name": "python3"
  },
  "language_info": {
   "codemirror_mode": {
    "name": "ipython",
    "version": 3
   },
   "file_extension": ".py",
   "mimetype": "text/x-python",
   "name": "python",
   "nbconvert_exporter": "python",
   "pygments_lexer": "ipython3",
   "version": "3.11.1"
  }
 },
 "nbformat": 4,
 "nbformat_minor": 2
}
