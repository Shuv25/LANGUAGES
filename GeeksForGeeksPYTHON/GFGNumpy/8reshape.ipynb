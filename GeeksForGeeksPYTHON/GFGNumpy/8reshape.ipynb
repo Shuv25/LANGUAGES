{
 "cells": [
  {
   "cell_type": "code",
   "execution_count": 1,
   "metadata": {},
   "outputs": [],
   "source": [
    "import numpy as np"
   ]
  },
  {
   "cell_type": "code",
   "execution_count": 4,
   "metadata": {},
   "outputs": [
    {
     "name": "stdout",
     "output_type": "stream",
     "text": [
      "[[6 8 8 7]\n",
      " [7 4 7 6]\n",
      " [6 3 4 4]]\n",
      "(3, 4)\n"
     ]
    }
   ],
   "source": [
    "a=np.random.randint(3,9,(3,4))\n",
    "print(a)\n",
    "print(a.shape)"
   ]
  },
  {
   "cell_type": "code",
   "execution_count": 8,
   "metadata": {},
   "outputs": [
    {
     "name": "stdout",
     "output_type": "stream",
     "text": [
      "[[6 8 8]\n",
      " [7 7 4]\n",
      " [7 6 6]\n",
      " [3 4 4]]\n",
      "(4, 3)\n"
     ]
    }
   ],
   "source": [
    "a=a.reshape(4,3)\n",
    "print(a)\n",
    "print(a.shape)"
   ]
  },
  {
   "cell_type": "code",
   "execution_count": 9,
   "metadata": {},
   "outputs": [
    {
     "name": "stdout",
     "output_type": "stream",
     "text": [
      "[[6 8 8 7 7 4]\n",
      " [7 6 6 3 4 4]]\n",
      "(2, 6)\n"
     ]
    }
   ],
   "source": [
    "a=a.reshape(2,6)\n",
    "print(a)\n",
    "print(a.shape)"
   ]
  }
 ],
 "metadata": {
  "kernelspec": {
   "display_name": "Python 3",
   "language": "python",
   "name": "python3"
  },
  "language_info": {
   "codemirror_mode": {
    "name": "ipython",
    "version": 3
   },
   "file_extension": ".py",
   "mimetype": "text/x-python",
   "name": "python",
   "nbconvert_exporter": "python",
   "pygments_lexer": "ipython3",
   "version": "3.11.1"
  }
 },
 "nbformat": 4,
 "nbformat_minor": 2
}
