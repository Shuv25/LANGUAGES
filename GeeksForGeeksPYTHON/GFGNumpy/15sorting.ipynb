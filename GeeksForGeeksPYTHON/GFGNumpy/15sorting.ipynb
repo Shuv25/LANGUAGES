{
 "cells": [
  {
   "cell_type": "code",
   "execution_count": 1,
   "metadata": {},
   "outputs": [],
   "source": [
    "import numpy as np"
   ]
  },
  {
   "cell_type": "code",
   "execution_count": 10,
   "metadata": {},
   "outputs": [
    {
     "name": "stdout",
     "output_type": "stream",
     "text": [
      "[49 30 35 24 31 31 11 49 18 32 48 21 19 36  8  3 27 44 40 34 17 41 38 36\n",
      " 46 36 11 31 22  8 27 15 49 37 23 49 37 21  7 14 38 44 43 42 39 19 39 21\n",
      " 36  9]\n"
     ]
    }
   ],
   "source": [
    "a=np.random.randint(3,50,50)\n",
    "print(a)"
   ]
  },
  {
   "cell_type": "code",
   "execution_count": 11,
   "metadata": {},
   "outputs": [],
   "source": [
    "sorted_a=np.sort(a)"
   ]
  },
  {
   "cell_type": "code",
   "execution_count": 12,
   "metadata": {},
   "outputs": [
    {
     "data": {
      "text/plain": [
       "array([ 3,  7,  8,  8,  9, 11, 11, 14, 15, 17, 18, 19, 19, 21, 21, 21, 22,\n",
       "       23, 24, 27, 27, 30, 31, 31, 31, 32, 34, 35, 36, 36, 36, 36, 37, 37,\n",
       "       38, 38, 39, 39, 40, 41, 42, 43, 44, 44, 46, 48, 49, 49, 49, 49])"
      ]
     },
     "execution_count": 12,
     "metadata": {},
     "output_type": "execute_result"
    }
   ],
   "source": [
    "sorted_a"
   ]
  },
  {
   "cell_type": "code",
   "execution_count": 13,
   "metadata": {},
   "outputs": [
    {
     "name": "stdout",
     "output_type": "stream",
     "text": [
      "[[33 15 39 24 45 29]\n",
      " [36 28 36  5  4 40]\n",
      " [19 45 40 17 28 24]\n",
      " [25 11 14 44 13 39]\n",
      " [44 16 27 44 26 24]]\n"
     ]
    }
   ],
   "source": [
    "b=np.random.randint(3,50,(5,6))\n",
    "print(b)"
   ]
  },
  {
   "cell_type": "code",
   "execution_count": 16,
   "metadata": {},
   "outputs": [
    {
     "name": "stdout",
     "output_type": "stream",
     "text": [
      "[[ 4  5 11 13 14 15]\n",
      " [16 17 19 24 24 24]\n",
      " [25 26 27 28 28 29]\n",
      " [33 36 36 39 39 40]\n",
      " [40 44 44 44 45 45]]\n"
     ]
    }
   ],
   "source": [
    "print(np.reshape(np.sort(b.flatten(),kind='mergesort'),(5,6)))"
   ]
  }
 ],
 "metadata": {
  "kernelspec": {
   "display_name": "Python 3",
   "language": "python",
   "name": "python3"
  },
  "language_info": {
   "codemirror_mode": {
    "name": "ipython",
    "version": 3
   },
   "file_extension": ".py",
   "mimetype": "text/x-python",
   "name": "python",
   "nbconvert_exporter": "python",
   "pygments_lexer": "ipython3",
   "version": "3.11.1"
  }
 },
 "nbformat": 4,
 "nbformat_minor": 2
}
